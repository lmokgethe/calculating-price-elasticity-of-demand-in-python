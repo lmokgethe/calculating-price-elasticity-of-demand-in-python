{
 "cells": [
  {
   "cell_type": "markdown",
   "metadata": {},
   "source": [
    "# Price Elasticity Of Demand "
   ]
  },
  {
   "cell_type": "markdown",
   "metadata": {},
   "source": [
    "Price Elasticity Of Demand gives is a measure of the percentage change in quantity of a good relative to the percentage change in price of that good. It is a measure of how sensitive the demand for a good is to the change in price. Elastic goods are sensitive to price change while inelastic ones are less sensitve. The measure uses percentage change in price and quantity as opposed to just the change quantity relative to change in price  as this would give value specific to the unit of measure used. The concept is good at helping companies/ The government price their goods/products and maximize profits.\n",
    "\n",
    "There are 2 methods:\n",
    "* The simple method\n",
    "    * Method gives elasticity of a single point\n",
    "* The Midpoint method\n",
    "    * This method gives the  elasticity between two price points whether there is a price increase or decrease\n",
    "\n",
    "If the absolute value of Price Elasticity Of Demand is less than 1 (> 1), the good is inelastic\n",
    "If the absolute value of Price Elasticity Of Demand is greater than 1 (< 1), the good is inelastic\n",
    "If the absolute value of Price Elasticity Of Demand is equal to 1 (= 1), the good is unit elatic meaning perfectly responsive to changes in price (percentage  change in demanded is exactly the same  as the change in price)\n",
    "\n",
    "The more easily a shopper can substitute one product with a rising price for another, the more the price will fall – be \"elastic.\" "
   ]
  },
  {
   "cell_type": "markdown",
   "metadata": {},
   "source": [
    "### Simple Method"
   ]
  },
  {
   "cell_type": "code",
   "execution_count": 52,
   "metadata": {},
   "outputs": [
    {
     "name": "stdout",
     "output_type": "stream",
     "text": [
      "ALL INPUTS MUST BE NUMBERS\n",
      "Enter intial Quantity and press enter2\n",
      "Enter final Quantity and press enter4\n",
      "Enter initial Price9\n",
      "Enter final Price8\n",
      "\u001b[1minitial and final quanttity:[2, 4]\n",
      "initial and final price:[9, 8]\n"
     ]
    }
   ],
   "source": [
    "#prompt user to give the values for quantity and price and print these values for user to verify. \n",
    "#The system will return an error messages in user input is not a number (float)\n",
    "\n",
    "print('ALL INPUTS MUST BE NUMBERS')\n",
    "while True:\n",
    "    try:\n",
    "        Q_initial=float(input('Enter intial Quantity and press enter:' ))\n",
    "        Q_final=float(input('Enter final Quantity and press enter:' ))\n",
    "        Q_change=[Q_initial,Q_final]\n",
    "        Q_change=list(map(float,Q_change))\n",
    "\n",
    "        P_initial=float(input('Enter initial Price:' ))\n",
    "        P_final=float(input('Enter final Price:' ))\n",
    "        P_change=[P_initial,P_final]\n",
    "        P_change=list(map(float,P_change))\n",
    "        \n",
    "    except ValueError:\n",
    "        print(\"Sorry, I didn't understand that.\")\n",
    "        continue\n",
    "    else:\n",
    "        break\n",
    "        \n",
    "print('\\033[1m'+'initial and final quanttity:{}'.format(Q_change))\n",
    "print('initial and final price:{}'.format(P_change))"
   ]
  },
  {
   "cell_type": "code",
   "execution_count": 54,
   "metadata": {
    "scrolled": true
   },
   "outputs": [
    {
     "name": "stdout",
     "output_type": "stream",
     "text": [
      "value of elasticity:-9.0\n",
      "Absolute value:9.0\n",
      "\u001b[1mElastic demand\n"
     ]
    }
   ],
   "source": [
    "# uses the formula for elasticity of demand to calculate value and return it as well as the elasticity type based on\n",
    "#the absolute value of the elasticity \n",
    "\n",
    "Price_Elasticity_demand =((Q_change[1]-Q_change[0])/Q_change[0]*100)/((P_change[1]-P_change[0])/P_change[0]*100)\n",
    "print('value of elasticity:{}'.format(Price_Elasticity_demand ))\n",
    "print('Absolute value:{}'.format(abs(Price_Elasticity_demand)))\n",
    "if abs(Price_Elasticity_demand)< 1:\n",
    "    print('Inelastic demand')\n",
    "elif abs(Price_Elasticity_demand)== 1:\n",
    "    print('Unit elastic demand')\n",
    "else:\n",
    "    print('\\033[1m'+'Elastic demand')"
   ]
  },
  {
   "cell_type": "markdown",
   "metadata": {},
   "source": [
    "### The midpoint method"
   ]
  },
  {
   "cell_type": "code",
   "execution_count": null,
   "metadata": {},
   "outputs": [],
   "source": [
    "#prompt user to give the values for quantity and price and print these values for user to verify. \n",
    "#The system will return an error messages in user input is not a number (float)\n",
    "\n",
    "print('ALL INPUTS MUST BE NUMBERS')\n",
    "while True:\n",
    "    try:\n",
    "        Q_initial=float(input('Enter intial Quantity and press enter:' ))\n",
    "        Q_final=float(input('Enter final Quantity and press enter:' ))\n",
    "        Q_change=[Q_initial,Q_final]\n",
    "        Q_change=list(map(float,Q_change))\n",
    "\n",
    "        P_initial=float(input('Enter initial Price:' ))\n",
    "        P_final=float(input('Enter final Price:' ))\n",
    "        P_change=[P_initial,P_final]\n",
    "        P_change=list(map(float,P_change))\n",
    "        \n",
    "    except ValueError:\n",
    "        print(\"Sorry, I didn't understand that.\")\n",
    "        continue\n",
    "    else:\n",
    "        break\n",
    "        \n",
    "print('\\033[1m'+'initial and final quanttity:{}'.format(Q_change))\n",
    "print('initial and final price:{}'.format(P_change))"
   ]
  },
  {
   "cell_type": "code",
   "execution_count": 55,
   "metadata": {},
   "outputs": [
    {
     "name": "stdout",
     "output_type": "stream",
     "text": [
      "value of elasticity:-5.666666666666666\n",
      "Absolute value:5.666666666666666\n",
      "\u001b[1mElastic demand\n"
     ]
    }
   ],
   "source": [
    "# using the formula for elasticity of demand between 2 points , calculate value and return it as well as the \n",
    "# elasticity type\n",
    "\n",
    "Price_Elasticity_demand =((Q_change[1]-Q_change[0])/((Q_change[1]+Q_change[0])/2)*100)/((P_change[1]-P_change[0])/((P_change[1]+P_change[0])/2)*100)\n",
    "print('value of elasticity:{}'.format(Price_Elasticity_demand ))\n",
    "print('Absolute value:{}'.format(abs(Price_Elasticity_demand)))\n",
    "if abs(Price_Elasticity_demand)< 1:\n",
    "    print('Inelastic demand')\n",
    "elif abs(Price_Elasticity_demand)== 1:\n",
    "    print('Unit elastic demand')\n",
    "else:\n",
    "    print('\\033[1m'+'Elastic demand')"
   ]
  }
 ],
 "metadata": {
  "kernelspec": {
   "display_name": "Python 3",
   "language": "python",
   "name": "python3"
  },
  "language_info": {
   "codemirror_mode": {
    "name": "ipython",
    "version": 3
   },
   "file_extension": ".py",
   "mimetype": "text/x-python",
   "name": "python",
   "nbconvert_exporter": "python",
   "pygments_lexer": "ipython3",
   "version": "3.7.6"
  }
 },
 "nbformat": 4,
 "nbformat_minor": 4
}
